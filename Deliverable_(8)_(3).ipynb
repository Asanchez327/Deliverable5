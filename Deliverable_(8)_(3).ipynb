{
  "nbformat": 4,
  "nbformat_minor": 0,
  "metadata": {
    "colab": {
      "provenance": [],
      "toc_visible": true,
      "include_colab_link": true
    },
    "kernelspec": {
      "name": "python3",
      "display_name": "Python 3"
    },
    "language_info": {
      "name": "python"
    }
  },
  "cells": [
    {
      "cell_type": "markdown",
      "metadata": {
        "id": "view-in-github",
        "colab_type": "text"
      },
      "source": [
        "<a href=\"https://colab.research.google.com/github/Asanchez327/Deliverable5/blob/master/Deliverable_(8)_(3).ipynb\" target=\"_parent\"><img src=\"https://colab.research.google.com/assets/colab-badge.svg\" alt=\"Open In Colab\"/></a>"
      ]
    },
    {
      "cell_type": "code",
      "source": [
        "import random\n",
        "\n",
        "\n",
        "def populate_list(length):\n",
        "\n",
        "    lst = []\n",
        "    for i in range(length):\n",
        "        lst.append(random.randint(10, 50))\n",
        "    return lst\n",
        "\n",
        "\n",
        "def sum_list(lst):\n",
        "\n",
        "    return sum(lst)\n",
        "\n",
        "\n",
        "while True:\n",
        "  \n",
        "    user_entry = input(\"enter an integer between 5 and 15: \")\n",
        "    try:\n",
        "        user_entry = int(user_entry)\n",
        " \n",
        "        if user_entry >= 5 and user_entry <= 15:\n",
        "            break\n",
        "        else:\n",
        "\n",
        "            print(\"input invalid\")\n",
        "    except ValueError:\n",
        "  \n",
        "        print(\"input invalid\")\n",
        "\n",
        "\n",
        "random_lst = populate_list(user_entry)\n",
        "\n",
        "\n",
        "print(\"The elements of the array are:\", end=\" \")\n",
        "for num in random_lst:\n",
        "    print(num, end=\" \")\n",
        "\n",
        "total_sum = sum_list(random_lst)\n",
        "\n",
        "print(\"The sum is:\", total_sum)"
      ],
      "metadata": {
        "id": "IvL5w9nSBLHq"
      },
      "execution_count": null,
      "outputs": []
    }
  ]
}